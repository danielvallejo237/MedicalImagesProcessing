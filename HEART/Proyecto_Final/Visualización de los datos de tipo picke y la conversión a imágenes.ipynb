{
 "cells": [
  {
   "cell_type": "code",
   "execution_count": 22,
   "id": "4b0c7b79",
   "metadata": {},
   "outputs": [
    {
     "data": {
      "image/png": "[encoded data removed]",
      "text/plain": [
       "<Figure size 432x288 with 1 Axes>"
      ]
     },
     "metadata": {
      "needs_background": "light"
     },
     "output_type": "display_data"
    }
   ],
   "source": [
    "import pickle\n",
    "import matplotlib.pyplot as plt\n",
    "import cv2\n",
    "from PIL import Image\n",
    "import os\n",
    "\n",
    "file = open('125x32x32 positive.pickle', 'rb')\n",
    "data = pickle.load(file)\n",
    "file.close()\n",
    "savepath=\"/home/danielvaal/Documents/FINAL_SEMESTER/Procesamiento de Imágenes Biomédicas/Parte 1/Proyecto_Final/Estenosis\"\n",
    "if not os.path.exists(savepath):\n",
    "    os.makedirs(savepath)\n",
    "for i,dato in enumerate(data):\n",
    "    nombre=os.path.join(savepath,'Stenosis_'+str(i)+'_.png')\n",
    "    plt.axis('off')\n",
    "    plt.imsave(nombre,dato,cmap='gray')"
   ]
  },
  {
   "cell_type": "code",
   "execution_count": 23,
   "id": "b0bb1959",
   "metadata": {},
   "outputs": [
    {
     "data": {
      "image/png": "[encoded data removed]",
      "text/plain": [
       "<Figure size 432x288 with 1 Axes>"
      ]
     },
     "metadata": {
      "needs_background": "light"
     },
     "output_type": "display_data"
    }
   ],
   "source": [
    "file = open('1394x32x32 negative.pickle', 'rb')\n",
    "data = pickle.load(file)\n",
    "file.close()\n",
    "savepath=\"/home/danielvaal/Documents/FINAL_SEMESTER/Procesamiento de Imágenes Biomédicas/Parte 1/Proyecto_Final/NoEstenosis\"\n",
    "if not os.path.exists(savepath):\n",
    "    os.makedirs(savepath)\n",
    "for i,dato in enumerate(data):\n",
    "    nombre=os.path.join(savepath,'Stenosis_'+str(i)+'_.png')\n",
    "    plt.axis('off')\n",
    "    plt.imsave(nombre,dato,cmap='gray')\n",
    "    if i>200:\n",
    "        break"
   ]
  },
  {
   "cell_type": "code",
   "execution_count": null,
   "id": "c893ddc0",
   "metadata": {},
   "outputs": [],
   "source": []
  }
 ],
 "metadata": {
  "kernelspec": {
   "display_name": "Python 3",
   "language": "python",
   "name": "python3"
  },
  "language_info": {
   "codemirror_mode": {
    "name": "ipython",
    "version": 3
   },
   "file_extension": ".py",
   "mimetype": "text/x-python",
   "name": "python",
   "nbconvert_exporter": "python",
   "pygments_lexer": "ipython3",
   "version": "3.8.8"
  }
 },
 "nbformat": 4,
 "nbformat_minor": 5
}
